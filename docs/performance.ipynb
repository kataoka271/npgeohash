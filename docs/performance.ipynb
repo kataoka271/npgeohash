{
 "cells": [
  {
   "attachments": {},
   "cell_type": "markdown",
   "metadata": {},
   "source": [
    "# Performance Check"
   ]
  },
  {
   "cell_type": "code",
   "execution_count": 2,
   "metadata": {},
   "outputs": [],
   "source": [
    "import timeit\n",
    "import numpy as np\n",
    "from npgeohash import npgeohash, npgeohash_jit"
   ]
  },
  {
   "cell_type": "code",
   "execution_count": 3,
   "metadata": {},
   "outputs": [],
   "source": [
    "poi = np.array(\n",
    "    [\n",
    "        [35.69240645093, 139.7034750767164],\n",
    "        [35.691255831981294, 139.69025228754268],\n",
    "        [35.68307317410146, 139.71622562341963],\n",
    "        [35.70071598380815, 139.69749333875686],\n",
    "        [35.68997734701496, 139.6847427920536],\n",
    "        [35.68115524225217, 139.68584469115146],\n",
    "    ]\n",
    ")\n",
    "lat, lon = 35.68952987243547, 139.69953972279566\n",
    "\n",
    "results = {}\n",
    "\n",
    "\n",
    "def _t(stmt):\n",
    "    t = timeit.Timer(stmt, globals=globals())\n",
    "    n = 10000\n",
    "    u = t.timeit(n) / n * 1e6\n",
    "    print(f\"{u:.2f} us\")\n",
    "    results[stmt] = u"
   ]
  },
  {
   "attachments": {},
   "cell_type": "markdown",
   "metadata": {},
   "source": [
    "The following function is jitted."
   ]
  },
  {
   "cell_type": "code",
   "execution_count": 4,
   "metadata": {},
   "outputs": [
    {
     "name": "stdout",
     "output_type": "stream",
     "text": [
      "56.36 us\n",
      "10.35 us\n"
     ]
    }
   ],
   "source": [
    "_t(\"npgeohash.encode_array(poi, 7)\")\n",
    "_t(\"npgeohash_jit.encode_array(poi, 7)\")"
   ]
  },
  {
   "cell_type": "code",
   "execution_count": 5,
   "metadata": {},
   "outputs": [
    {
     "name": "stdout",
     "output_type": "stream",
     "text": [
      "1262.90 us\n",
      "307.07 us\n"
     ]
    }
   ],
   "source": [
    "_t(\"list(npgeohash.create_circle(lat, lon, 1000, 7))\")\n",
    "_t(\"list(npgeohash_jit.create_circle(lat, lon, 1000, 7))\")"
   ]
  },
  {
   "cell_type": "code",
   "execution_count": 6,
   "metadata": {},
   "outputs": [
    {
     "name": "stdout",
     "output_type": "stream",
     "text": [
      "58.87 us\n",
      "17.05 us\n"
     ]
    }
   ],
   "source": [
    "poi_geohashes = npgeohash.encode_array(poi, 7)\n",
    "\n",
    "_t(\"npgeohash.neighbors(poi_geohashes[0])\")\n",
    "_t(\"npgeohash_jit.neighbors(poi_geohashes[0])\")"
   ]
  },
  {
   "attachments": {},
   "cell_type": "markdown",
   "metadata": {},
   "source": [
    "The following functions are actually not jitted."
   ]
  },
  {
   "cell_type": "code",
   "execution_count": 7,
   "metadata": {},
   "outputs": [
    {
     "name": "stdout",
     "output_type": "stream",
     "text": [
      "333.75 us\n",
      "326.27 us\n"
     ]
    }
   ],
   "source": [
    "_t(\"npgeohash.many_neighbors(poi_geohashes)\")\n",
    "_t(\"npgeohash_jit.many_neighbors(poi_geohashes)\")"
   ]
  },
  {
   "cell_type": "code",
   "execution_count": 8,
   "metadata": {},
   "outputs": [
    {
     "name": "stdout",
     "output_type": "stream",
     "text": [
      "39.16 us\n",
      "33.36 us\n"
     ]
    }
   ],
   "source": [
    "_t(\"npgeohash.isin(poi_geohashes, poi_geohashes)\")\n",
    "_t(\"npgeohash_jit.isin(poi_geohashes, poi_geohashes)\")"
   ]
  },
  {
   "cell_type": "code",
   "execution_count": 9,
   "metadata": {},
   "outputs": [
    {
     "name": "stdout",
     "output_type": "stream",
     "text": [
      "2395.31 us\n",
      "2336.23 us\n"
     ]
    }
   ],
   "source": [
    "_t(\"npgeohash.isin_circle(poi_geohashes, lat, lon, 1000, 7)\")\n",
    "_t(\"npgeohash_jit.isin_circle(poi_geohashes, lat, lon, 1000, 7)\")"
   ]
  },
  {
   "attachments": {},
   "cell_type": "markdown",
   "metadata": {},
   "source": [
    "# Result"
   ]
  },
  {
   "cell_type": "code",
   "execution_count": 10,
   "metadata": {},
   "outputs": [
    {
     "data": {
      "text/markdown": [
       "Function|npgeohash_jit(w/ jit)|npgeohash(wo/ jit)|Times\n",
       "---|---|---|---\n",
       "encode_array|10.35|56.36|5.44\n",
       "create_circle|307.07|1262.90|4.11\n",
       "neighbors|17.05|58.87|3.45\n",
       "many_neighbors|326.27|333.75|1.02\n",
       "isin|33.36|39.16|1.17\n",
       "isin_circle|2336.23|2395.31|1.03"
      ],
      "text/plain": [
       "<IPython.core.display.Markdown object>"
      ]
     },
     "metadata": {},
     "output_type": "display_data"
    }
   ],
   "source": [
    "from IPython.core.display import Markdown\n",
    "\n",
    "r_nojit = {}\n",
    "r_jit = {}\n",
    "for func, time in results.items():\n",
    "    i = func.find(\"npgeohash\")\n",
    "    j = func.find(\".\", i)\n",
    "    k = func.find(\"(\", j)\n",
    "    module_name = func[i:j]\n",
    "    func_name = func[j + 1:k]\n",
    "    if module_name == \"npgeohash_jit\":\n",
    "        r_jit[func_name] = time\n",
    "    else:\n",
    "        r_nojit[func_name] = time\n",
    "table = [\"Function|npgeohash_jit(w/ jit)|npgeohash(wo/ jit)|Times\", \"---|---|---|---\"]\n",
    "for func_name in r_nojit.keys():\n",
    "    table.append(f\"{func_name}|{r_jit[func_name]:.2f}|{r_nojit[func_name]:.2f}|{r_nojit[func_name] / r_jit[func_name]:.2f}\")\n",
    "display(Markdown(\"\\n\".join(table)))\n",
    "    "
   ]
  }
 ],
 "metadata": {
  "kernelspec": {
   "display_name": ".venv",
   "language": "python",
   "name": "python3"
  },
  "language_info": {
   "codemirror_mode": {
    "name": "ipython",
    "version": 3
   },
   "file_extension": ".py",
   "mimetype": "text/x-python",
   "name": "python",
   "nbconvert_exporter": "python",
   "pygments_lexer": "ipython3",
   "version": "3.10.1"
  },
  "orig_nbformat": 4
 },
 "nbformat": 4,
 "nbformat_minor": 2
}
