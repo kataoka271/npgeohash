{
 "cells": [
  {
   "attachments": {},
   "cell_type": "markdown",
   "metadata": {},
   "source": [
    "# Performance Check"
   ]
  },
  {
   "cell_type": "code",
   "execution_count": 1,
   "metadata": {},
   "outputs": [],
   "source": [
    "import timeit\n",
    "import numpy as np\n",
    "from npgeohash import npgeohash, npgeohash_jit, npgeohash_rs"
   ]
  },
  {
   "cell_type": "code",
   "execution_count": 2,
   "metadata": {},
   "outputs": [],
   "source": [
    "poi = np.array(\n",
    "    [\n",
    "        [35.69240645093, 139.7034750767164],\n",
    "        [35.691255831981294, 139.69025228754268],\n",
    "        [35.68307317410146, 139.71622562341963],\n",
    "        [35.70071598380815, 139.69749333875686],\n",
    "        [35.68997734701496, 139.6847427920536],\n",
    "        [35.68115524225217, 139.68584469115146],\n",
    "    ]\n",
    ")\n",
    "lat, lon = 35.68952987243547, 139.69953972279566\n",
    "\n",
    "results = {}\n",
    "\n",
    "\n",
    "def _t(stmt):\n",
    "    print(eval(stmt, globals()))\n",
    "    t = timeit.Timer(stmt, globals=globals())\n",
    "    n = 10000\n",
    "    u = t.timeit(n) / n * 1e6\n",
    "    print(f\"{u:.2f} us\")\n",
    "    results[stmt] = u"
   ]
  },
  {
   "attachments": {},
   "cell_type": "markdown",
   "metadata": {},
   "source": [
    "The following function is jitted."
   ]
  },
  {
   "cell_type": "code",
   "execution_count": 3,
   "metadata": {},
   "outputs": [
    {
     "name": "stdout",
     "output_type": "stream",
     "text": [
      "['xn77518' 'xn7749r' 'xn76grf' 'xn774gh' 'xn77495' 'xn76fxs']\n",
      "73.90 us\n",
      "['xn77518' 'xn7749r' 'xn76grf' 'xn774gh' 'xn77495' 'xn76fxs']\n",
      "6.13 us\n",
      "['xn77518', 'xn7749r', 'xn76grf', 'xn774gh', 'xn77495', 'xn76fxs']\n",
      "1.86 us\n"
     ]
    }
   ],
   "source": [
    "_t(\"npgeohash.encode_array(poi, 7)\")\n",
    "_t(\"npgeohash_jit.encode_array(poi, 7)\")\n",
    "_t(\"npgeohash_rs.encode_array(poi, 7)\")"
   ]
  },
  {
   "cell_type": "code",
   "execution_count": 4,
   "metadata": {},
   "outputs": [
    {
     "name": "stdout",
     "output_type": "stream",
     "text": [
      "['xn7748q', 'xn7748w', 'xn7748y', 'xn7749n', 'xn7749q', 'xn7749w', 'xn7749y', 'xn7748p', 'xn7748r', 'xn7748x', 'xn7748z', 'xn7749p', 'xn7749r', 'xn7749x', 'xn7749z', 'xn774dp', 'xn76fzb', 'xn774b0', 'xn774b2', 'xn774b8', 'xn774bb', 'xn774c0', 'xn774c2', 'xn774c8', 'xn774cb', 'xn774f0', 'xn774f2', 'xn76fz9', 'xn76fzc', 'xn774b1', 'xn774b3', 'xn774b9', 'xn774bc', 'xn774c1', 'xn774c3', 'xn774c9', 'xn774cc', 'xn774f1', 'xn774f3', 'xn76fzd', 'xn76fzf', 'xn774b4', 'xn774b6', 'xn774bd', 'xn774bf', 'xn774c4', 'xn774c6', 'xn774cd', 'xn774cf', 'xn774f4', 'xn774f6', 'xn774fd', 'xn76fze', 'xn76fzg', 'xn774b5', 'xn774b7', 'xn774be', 'xn774bg', 'xn774c5', 'xn774c7', 'xn774ce', 'xn774cg', 'xn774f5', 'xn774f7', 'xn774fe', 'xn76fzk', 'xn76fzs', 'xn76fzu', 'xn774bh', 'xn774bk', 'xn774bs', 'xn774bu', 'xn774ch', 'xn774ck', 'xn774cs', 'xn774cu', 'xn774fh', 'xn774fk', 'xn774fs', 'xn76fzm', 'xn76fzt', 'xn76fzv', 'xn774bj', 'xn774bm', 'xn774bt', 'xn774bv', 'xn774cj', 'xn774cm', 'xn774ct', 'xn774cv', 'xn774fj', 'xn774fm', 'xn774ft', 'xn76fzq', 'xn76fzw', 'xn76fzy', 'xn774bn', 'xn774bq', 'xn774bw', 'xn774by', 'xn774cn', 'xn774cq', 'xn774cw', 'xn774cy', 'xn774fn', 'xn774fq', 'xn774fw', 'xn76fzr', 'xn76fzx', 'xn76fzz', 'xn774bp', 'xn774br', 'xn774bx', 'xn774bz', 'xn774cp', 'xn774cr', 'xn774cx', 'xn774cz', 'xn774fp', 'xn774fr', 'xn774fx', 'xn76gp2', 'xn76gp8', 'xn76gpb', 'xn77500', 'xn77502', 'xn77508', 'xn7750b', 'xn77510', 'xn77512', 'xn77518', 'xn7751b', 'xn77540', 'xn77542', 'xn77548', 'xn76gp9', 'xn76gpc', 'xn77501', 'xn77503', 'xn77509', 'xn7750c', 'xn77511', 'xn77513', 'xn77519', 'xn7751c', 'xn77541', 'xn77543', 'xn77549', 'xn76gpd', 'xn76gpf', 'xn77504', 'xn77506', 'xn7750d', 'xn7750f', 'xn77514', 'xn77516', 'xn7751d', 'xn7751f', 'xn77544', 'xn77546', 'xn7754d', 'xn76gpg', 'xn77505', 'xn77507', 'xn7750e', 'xn7750g', 'xn77515', 'xn77517', 'xn7751e', 'xn7751g', 'xn77545', 'xn77547', 'xn76gpu', 'xn7750h', 'xn7750k', 'xn7750s', 'xn7750u', 'xn7751h', 'xn7751k', 'xn7751s', 'xn7751u', 'xn7754h', 'xn7750j', 'xn7750m', 'xn7750t', 'xn7750v', 'xn7751j', 'xn7751m', 'xn7751t', 'xn7751v', 'xn7750y', 'xn7751n', 'xn7751q']\n",
      "1718.44 us\n",
      "['xn7748q', 'xn7748w', 'xn7748y', 'xn7749n', 'xn7749q', 'xn7749w', 'xn7749y', 'xn7748p', 'xn7748r', 'xn7748x', 'xn7748z', 'xn7749p', 'xn7749r', 'xn7749x', 'xn7749z', 'xn774dp', 'xn76fzb', 'xn774b0', 'xn774b2', 'xn774b8', 'xn774bb', 'xn774c0', 'xn774c2', 'xn774c8', 'xn774cb', 'xn774f0', 'xn774f2', 'xn76fz9', 'xn76fzc', 'xn774b1', 'xn774b3', 'xn774b9', 'xn774bc', 'xn774c1', 'xn774c3', 'xn774c9', 'xn774cc', 'xn774f1', 'xn774f3', 'xn76fzd', 'xn76fzf', 'xn774b4', 'xn774b6', 'xn774bd', 'xn774bf', 'xn774c4', 'xn774c6', 'xn774cd', 'xn774cf', 'xn774f4', 'xn774f6', 'xn774fd', 'xn76fze', 'xn76fzg', 'xn774b5', 'xn774b7', 'xn774be', 'xn774bg', 'xn774c5', 'xn774c7', 'xn774ce', 'xn774cg', 'xn774f5', 'xn774f7', 'xn774fe', 'xn76fzk', 'xn76fzs', 'xn76fzu', 'xn774bh', 'xn774bk', 'xn774bs', 'xn774bu', 'xn774ch', 'xn774ck', 'xn774cs', 'xn774cu', 'xn774fh', 'xn774fk', 'xn774fs', 'xn76fzm', 'xn76fzt', 'xn76fzv', 'xn774bj', 'xn774bm', 'xn774bt', 'xn774bv', 'xn774cj', 'xn774cm', 'xn774ct', 'xn774cv', 'xn774fj', 'xn774fm', 'xn774ft', 'xn76fzq', 'xn76fzw', 'xn76fzy', 'xn774bn', 'xn774bq', 'xn774bw', 'xn774by', 'xn774cn', 'xn774cq', 'xn774cw', 'xn774cy', 'xn774fn', 'xn774fq', 'xn774fw', 'xn76fzr', 'xn76fzx', 'xn76fzz', 'xn774bp', 'xn774br', 'xn774bx', 'xn774bz', 'xn774cp', 'xn774cr', 'xn774cx', 'xn774cz', 'xn774fp', 'xn774fr', 'xn774fx', 'xn76gp2', 'xn76gp8', 'xn76gpb', 'xn77500', 'xn77502', 'xn77508', 'xn7750b', 'xn77510', 'xn77512', 'xn77518', 'xn7751b', 'xn77540', 'xn77542', 'xn77548', 'xn76gp9', 'xn76gpc', 'xn77501', 'xn77503', 'xn77509', 'xn7750c', 'xn77511', 'xn77513', 'xn77519', 'xn7751c', 'xn77541', 'xn77543', 'xn77549', 'xn76gpd', 'xn76gpf', 'xn77504', 'xn77506', 'xn7750d', 'xn7750f', 'xn77514', 'xn77516', 'xn7751d', 'xn7751f', 'xn77544', 'xn77546', 'xn7754d', 'xn76gpg', 'xn77505', 'xn77507', 'xn7750e', 'xn7750g', 'xn77515', 'xn77517', 'xn7751e', 'xn7751g', 'xn77545', 'xn77547', 'xn76gpu', 'xn7750h', 'xn7750k', 'xn7750s', 'xn7750u', 'xn7751h', 'xn7751k', 'xn7751s', 'xn7751u', 'xn7754h', 'xn7750j', 'xn7750m', 'xn7750t', 'xn7750v', 'xn7751j', 'xn7751m', 'xn7751t', 'xn7751v', 'xn7750y', 'xn7751n', 'xn7751q']\n",
      "145.55 us\n",
      "['xn7748q', 'xn7748w', 'xn7748y', 'xn7749n', 'xn7749q', 'xn7749w', 'xn7749y', 'xn7748p', 'xn7748r', 'xn7748x', 'xn7748z', 'xn7749p', 'xn7749r', 'xn7749x', 'xn7749z', 'xn774dp', 'xn76fzb', 'xn774b0', 'xn774b2', 'xn774b8', 'xn774bb', 'xn774c0', 'xn774c2', 'xn774c8', 'xn774cb', 'xn774f0', 'xn774f2', 'xn76fz9', 'xn76fzc', 'xn774b1', 'xn774b3', 'xn774b9', 'xn774bc', 'xn774c1', 'xn774c3', 'xn774c9', 'xn774cc', 'xn774f1', 'xn774f3', 'xn76fzd', 'xn76fzf', 'xn774b4', 'xn774b6', 'xn774bd', 'xn774bf', 'xn774c4', 'xn774c6', 'xn774cd', 'xn774cf', 'xn774f4', 'xn774f6', 'xn774fd', 'xn76fze', 'xn76fzg', 'xn774b5', 'xn774b7', 'xn774be', 'xn774bg', 'xn774c5', 'xn774c7', 'xn774ce', 'xn774cg', 'xn774f5', 'xn774f7', 'xn774fe', 'xn76fzk', 'xn76fzs', 'xn76fzu', 'xn774bh', 'xn774bk', 'xn774bs', 'xn774bu', 'xn774ch', 'xn774ck', 'xn774cs', 'xn774cu', 'xn774fh', 'xn774fk', 'xn774fs', 'xn76fzm', 'xn76fzt', 'xn76fzv', 'xn774bj', 'xn774bm', 'xn774bt', 'xn774bv', 'xn774cj', 'xn774cm', 'xn774ct', 'xn774cv', 'xn774fj', 'xn774fm', 'xn774ft', 'xn76fzq', 'xn76fzw', 'xn76fzy', 'xn774bn', 'xn774bq', 'xn774bw', 'xn774by', 'xn774cn', 'xn774cq', 'xn774cw', 'xn774cy', 'xn774fn', 'xn774fq', 'xn774fw', 'xn76fzr', 'xn76fzx', 'xn76fzz', 'xn774bp', 'xn774br', 'xn774bx', 'xn774bz', 'xn774cp', 'xn774cr', 'xn774cx', 'xn774cz', 'xn774fp', 'xn774fr', 'xn774fx', 'xn76gp2', 'xn76gp8', 'xn76gpb', 'xn77500', 'xn77502', 'xn77508', 'xn7750b', 'xn77510', 'xn77512', 'xn77518', 'xn7751b', 'xn77540', 'xn77542', 'xn77548', 'xn76gp9', 'xn76gpc', 'xn77501', 'xn77503', 'xn77509', 'xn7750c', 'xn77511', 'xn77513', 'xn77519', 'xn7751c', 'xn77541', 'xn77543', 'xn77549', 'xn76gpd', 'xn76gpf', 'xn77504', 'xn77506', 'xn7750d', 'xn7750f', 'xn77514', 'xn77516', 'xn7751d', 'xn7751f', 'xn77544', 'xn77546', 'xn7754d', 'xn76gpg', 'xn77505', 'xn77507', 'xn7750e', 'xn7750g', 'xn77515', 'xn77517', 'xn7751e', 'xn7751g', 'xn77545', 'xn77547', 'xn76gpu', 'xn7750h', 'xn7750k', 'xn7750s', 'xn7750u', 'xn7751h', 'xn7751k', 'xn7751s', 'xn7751u', 'xn7754h', 'xn7750j', 'xn7750m', 'xn7750t', 'xn7750v', 'xn7751j', 'xn7751m', 'xn7751t', 'xn7751v', 'xn7750y', 'xn7751n', 'xn7751q']\n",
      "53.24 us\n"
     ]
    }
   ],
   "source": [
    "_t(\"list(npgeohash.create_circle(lat, lon, 1000, 7))\")\n",
    "_t(\"list(npgeohash_jit.create_circle(lat, lon, 1000, 7))\")\n",
    "_t(\"list(npgeohash_rs.create_circle(lat, lon, 1000, 7))\")"
   ]
  },
  {
   "cell_type": "code",
   "execution_count": 5,
   "metadata": {},
   "outputs": [
    {
     "name": "stdout",
     "output_type": "stream",
     "text": [
      "['xn77518', 'xn7751b', 'xn774cz', 'xn774cx', 'xn774cr', 'xn77512', 'xn77513', 'xn77519', 'xn7751c']\n",
      "64.75 us\n",
      "['xn77518', 'xn7751b', 'xn774cz', 'xn774cx', 'xn774cr', 'xn77512', 'xn77513', 'xn77519', 'xn7751c']\n",
      "10.46 us\n",
      "['xn77518', 'xn7751b', 'xn774cz', 'xn774cx', 'xn774cr', 'xn77512', 'xn77513', 'xn77519', 'xn7751c']\n",
      "1.96 us\n"
     ]
    }
   ],
   "source": [
    "poi_geohashes = npgeohash.encode_array(poi, 7)\n",
    "\n",
    "_t(\"npgeohash.neighbors(poi_geohashes[0])\")\n",
    "_t(\"npgeohash_jit.neighbors(poi_geohashes[0])\")\n",
    "_t(\"npgeohash_rs.neighbors(poi_geohashes[0])\")"
   ]
  },
  {
   "attachments": {},
   "cell_type": "markdown",
   "metadata": {},
   "source": [
    "The following functions are actually not jitted."
   ]
  },
  {
   "cell_type": "code",
   "execution_count": 6,
   "metadata": {},
   "outputs": [
    {
     "name": "stdout",
     "output_type": "stream",
     "text": [
      "{'xn774fg', 'xn76gre', 'xn77525', 'xn774fv', 'xn76fxg', 'xn76fxv', 'xn77519', 'xn7749h', 'xn76grf', 'xn7749r', 'xn774gh', 'xn7748u', 'xn76fxm', 'xn774gj', 'xn76gr9', 'xn7749p', 'xn77494', 'xn77513', 'xn7749x', 'xn77497', 'xn76fx7', 'xn77524', 'xn774g5', 'xn76fxu', 'xn77518', 'xn77512', 'xn76fxs', 'xn7749k', 'xn774fu', 'xn7748f', 'xn7751b', 'xn774c8', 'xn7748g', 'xn774g7', 'xn77495', 'xn774cx', 'xn76grc', 'xn774cz', 'xn76fxt', 'xn774c0', 'xn76grg', 'xn76fxe', 'xn76grd', 'xn7749n', 'xn76fxk', 'xn774gk', 'xn7749w', 'xn77521', 'xn77496', 'xn7751c', 'xn774gm', 'xn774cr', 'xn774c2', 'xn7749q'}\n",
      "405.67 us\n",
      "{'xn774fg', 'xn76gre', 'xn77525', 'xn774fv', 'xn76fxg', 'xn76fxv', 'xn77519', 'xn7749h', 'xn76grf', 'xn7749r', 'xn774gh', 'xn7748u', 'xn76fxm', 'xn774gj', 'xn76gr9', 'xn7749p', 'xn77494', 'xn77513', 'xn7749x', 'xn77497', 'xn76fx7', 'xn77524', 'xn774g5', 'xn76fxu', 'xn77518', 'xn77512', 'xn76fxs', 'xn7749k', 'xn774fu', 'xn7748f', 'xn7751b', 'xn774c8', 'xn7748g', 'xn774g7', 'xn77495', 'xn774cx', 'xn76grc', 'xn774cz', 'xn76fxt', 'xn774c0', 'xn76grg', 'xn76fxe', 'xn76grd', 'xn7749n', 'xn76fxk', 'xn774gk', 'xn7749w', 'xn77521', 'xn77496', 'xn7751c', 'xn774gm', 'xn774cr', 'xn774c2', 'xn7749q'}\n",
      "377.32 us\n",
      "['xn77518', 'xn7751b', 'xn774cz', 'xn774cx', 'xn774cr', 'xn77512', 'xn77513', 'xn77519', 'xn7751c', 'xn7749r', 'xn7749x', 'xn7749w', 'xn7749q', 'xn7749n', 'xn7749p', 'xn774c0', 'xn774c2', 'xn774c8', 'xn76grf', 'xn77524', 'xn77521', 'xn76grc', 'xn76gr9', 'xn76grd', 'xn76gre', 'xn76grg', 'xn77525', 'xn774gh', 'xn774gk', 'xn774g7', 'xn774g5', 'xn774fg', 'xn774fu', 'xn774fv', 'xn774gj', 'xn774gm', 'xn77495', 'xn77497', 'xn77496', 'xn77494', 'xn7748f', 'xn7748g', 'xn7748u', 'xn7749h', 'xn7749k', 'xn76fxs', 'xn76fxu', 'xn76fxg', 'xn76fxe', 'xn76fx7', 'xn76fxk', 'xn76fxm', 'xn76fxt', 'xn76fxv']\n",
      "29.83 us\n"
     ]
    }
   ],
   "source": [
    "_t(\"npgeohash.many_neighbors(poi_geohashes)\")\n",
    "_t(\"npgeohash_jit.many_neighbors(poi_geohashes)\")\n",
    "_t(\"npgeohash_rs.many_neighbors(poi_geohashes)\")"
   ]
  },
  {
   "cell_type": "code",
   "execution_count": 7,
   "metadata": {},
   "outputs": [
    {
     "name": "stdout",
     "output_type": "stream",
     "text": [
      "[ True  True  True  True  True  True]\n",
      "52.64 us\n",
      "[ True  True  True  True  True  True]\n",
      "147.06 us\n",
      "[True, True, True, True, True, True]\n",
      "40.36 us\n"
     ]
    }
   ],
   "source": [
    "_t(\"npgeohash.isin(poi_geohashes, poi_geohashes)\")\n",
    "_t(\"npgeohash_jit.isin(poi_geohashes, poi_geohashes)\")\n",
    "_t(\"npgeohash_rs.isin(poi_geohashes, poi_geohashes)\")"
   ]
  },
  {
   "cell_type": "code",
   "execution_count": 8,
   "metadata": {},
   "outputs": [
    {
     "name": "stdout",
     "output_type": "stream",
     "text": [
      "[ True  True False False False False]\n",
      "3402.98 us\n",
      "[ True  True False False False False]\n",
      "4622.43 us\n",
      "[True, True, False, False, False, False]\n",
      "51.44 us\n"
     ]
    }
   ],
   "source": [
    "_t(\"npgeohash.isin_circle(poi_geohashes, lat, lon, 1000, 7)\")\n",
    "_t(\"npgeohash_jit.isin_circle(poi_geohashes, lat, lon, 1000, 7)\")\n",
    "_t(\"npgeohash_rs.isin_circle(poi_geohashes, lat, lon, 1000, 7)\")"
   ]
  },
  {
   "attachments": {},
   "cell_type": "markdown",
   "metadata": {},
   "source": [
    "# Result"
   ]
  },
  {
   "cell_type": "code",
   "execution_count": 9,
   "metadata": {},
   "outputs": [
    {
     "data": {
      "text/markdown": [
       "Function|npgeohash(wo/ jit)|npgeohash_jit(w/ jit)|Times|npgeohash_rs|Times\n",
       "---|---|---|---|---|---\n",
       "encode_array|73.90|6.13|12.06|1.86|39.75\n",
       "create_circle|1718.44|145.55|11.81|53.24|32.27\n",
       "neighbors|64.75|10.46|6.19|1.96|33.06\n",
       "many_neighbors|405.67|377.32|1.08|29.83|13.60\n",
       "isin|52.64|147.06|0.36|40.36|1.30\n",
       "isin_circle|3402.98|4622.43|0.74|51.44|66.15"
      ],
      "text/plain": [
       "<IPython.core.display.Markdown object>"
      ]
     },
     "metadata": {},
     "output_type": "display_data"
    }
   ],
   "source": [
    "from IPython.core.display import Markdown\n",
    "\n",
    "r_pure = {}\n",
    "r_jit = {}\n",
    "r_rust = {}\n",
    "for func, time in results.items():\n",
    "    i = func.find(\"npgeohash\")\n",
    "    j = func.find(\".\", i)\n",
    "    k = func.find(\"(\", j)\n",
    "    module_name = func[i:j]\n",
    "    func_name = func[j + 1:k]\n",
    "    if module_name == \"npgeohash_jit\":\n",
    "        r_jit[func_name] = time\n",
    "    elif module_name == \"npgeohash_rs\":\n",
    "        r_rust[func_name] = time\n",
    "    else:\n",
    "        r_pure[func_name] = time\n",
    "table = [\"Function|npgeohash(wo/ jit)|npgeohash_jit(w/ jit)|Times|npgeohash_rs|Times\", \"---|---|---|---|---|---\"]\n",
    "for func_name in r_pure.keys():\n",
    "    table.append(\n",
    "        \"{}|{:.2f}|{:.2f}|{:.2f}|{:.2f}|{:.2f}\".format(\n",
    "            func_name,\n",
    "            r_pure[func_name],\n",
    "            r_jit[func_name],\n",
    "            r_pure[func_name] / r_jit[func_name],\n",
    "            r_rust[func_name],\n",
    "            r_pure[func_name] / r_rust[func_name],\n",
    "        )\n",
    "    )\n",
    "display(Markdown(\"\\n\".join(table)))\n",
    "    "
   ]
  }
 ],
 "metadata": {
  "kernelspec": {
   "display_name": ".venv",
   "language": "python",
   "name": "python3"
  },
  "language_info": {
   "codemirror_mode": {
    "name": "ipython",
    "version": 3
   },
   "file_extension": ".py",
   "mimetype": "text/x-python",
   "name": "python",
   "nbconvert_exporter": "python",
   "pygments_lexer": "ipython3",
   "version": "3.11.3"
  },
  "orig_nbformat": 4
 },
 "nbformat": 4,
 "nbformat_minor": 2
}
