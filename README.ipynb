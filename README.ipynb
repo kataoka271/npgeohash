{
 "cells": [
  {
   "attachments": {},
   "cell_type": "markdown",
   "metadata": {},
   "source": [
    "# npgeohash - Create Geohash on NumPy"
   ]
  },
  {
   "attachments": {},
   "cell_type": "markdown",
   "metadata": {},
   "source": [
    "## Installation"
   ]
  },
  {
   "attachments": {},
   "cell_type": "markdown",
   "metadata": {},
   "source": [
    "```shell\n",
    "poetry add git+https://github.com/kataoka271/npgeohash.git\n",
    "```\n",
    "or\n",
    "```shell\n",
    "pip install git+https://github.com/kataoka271/npgeohash.git\n",
    "```"
   ]
  },
  {
   "attachments": {},
   "cell_type": "markdown",
   "metadata": {},
   "source": [
    "## Usage"
   ]
  },
  {
   "cell_type": "code",
   "execution_count": 1,
   "metadata": {},
   "outputs": [
    {
     "data": {
      "text/plain": [
       "array([[ 35.68965589, 139.70010996],\n",
       "       [ 35.72985642, 139.71048001],\n",
       "       [ 35.68563034, 139.76282021]])"
      ]
     },
     "execution_count": 1,
     "metadata": {},
     "output_type": "execute_result"
    }
   ],
   "source": [
    "import os\n",
    "import time\n",
    "from typing import Iterable\n",
    "\n",
    "import numpy as np\n",
    "from folium import Circle, Icon, Map, Marker, Rectangle\n",
    "from IPython.core.display import Markdown\n",
    "from selenium import webdriver\n",
    "\n",
    "import npgeohash.npgeohash as npgeohash\n",
    "\n",
    "\n",
    "def drawbox(m: Map, codes: Iterable[str], color: str) -> Map:\n",
    "    for code in codes:\n",
    "        lat_min, lon_min, lat_max, lon_max = npgeohash.to_latlon(code)\n",
    "        center = ((lat_max, lon_max), (lat_min, lon_min))\n",
    "        Rectangle(center, fill=True, fill_opacity=0.3, fill_color=color, color=color).add_to(m)\n",
    "    return m\n",
    "\n",
    "\n",
    "CACHE = 1\n",
    "\n",
    "if CACHE == 1:\n",
    "    image_index = 0\n",
    "\n",
    "    def showmap(m: Map):\n",
    "        global image_index\n",
    "        filename = f\"images/{image_index:02d}.png\"\n",
    "        display(Markdown(f\"![]({filename})\"))\n",
    "        image_index += 1\n",
    "\n",
    "elif CACHE == 2:\n",
    "    image_index = 0\n",
    "\n",
    "    def showmap(m: Map):\n",
    "        global image_index\n",
    "        filename = f\"images/{image_index:02d}.png\"\n",
    "        htmlfile = \"map.html\"\n",
    "        m.save(htmlfile)\n",
    "        browser = webdriver.Firefox()\n",
    "        browser.get(f\"file://{os.getcwd()}/{htmlfile}\")\n",
    "        time.sleep(5)\n",
    "        browser.save_screenshot(filename)\n",
    "        browser.quit()\n",
    "        os.unlink(htmlfile)\n",
    "        display(Markdown(f\"![]({filename})\"))\n",
    "        image_index += 1\n",
    "\n",
    "else:\n",
    "\n",
    "    def showmap(m: Map):\n",
    "        display(m)\n",
    "\n",
    "\n",
    "arr = np.array(\n",
    "    [\n",
    "        [35.689655888210886, 139.70010995782644],\n",
    "        [35.72985642217818, 139.71048000669535],\n",
    "        [35.68563034485054, 139.76282021384134],\n",
    "    ]\n",
    ")\n",
    "arr"
   ]
  },
  {
   "attachments": {},
   "cell_type": "markdown",
   "metadata": {},
   "source": [
    "## npgeohash.encode_array(array, precision)"
   ]
  },
  {
   "cell_type": "code",
   "execution_count": 2,
   "metadata": {},
   "outputs": [
    {
     "data": {
      "text/plain": [
       "array(['xn774cn', 'xn7770q', 'xn77h2k'], dtype='<U12')"
      ]
     },
     "execution_count": 2,
     "metadata": {},
     "output_type": "execute_result"
    }
   ],
   "source": [
    "geohashes = npgeohash.encode_array(arr, 7)\n",
    "geohashes"
   ]
  },
  {
   "cell_type": "code",
   "execution_count": 3,
   "metadata": {},
   "outputs": [
    {
     "data": {
      "text/markdown": [
       "![](images/00.png)"
      ],
      "text/plain": [
       "<IPython.core.display.Markdown object>"
      ]
     },
     "metadata": {},
     "output_type": "display_data"
    }
   ],
   "source": [
    "m = Map(zoom_start=15)\n",
    "drawbox(m, geohashes, \"red\")\n",
    "m.fit_bounds(m.get_bounds())\n",
    "for latlon in arr:\n",
    "    Marker(latlon).add_to(m)\n",
    "showmap(m)"
   ]
  },
  {
   "attachments": {},
   "cell_type": "markdown",
   "metadata": {},
   "source": [
    "## npgeohash.neighbors(code)"
   ]
  },
  {
   "cell_type": "code",
   "execution_count": 4,
   "metadata": {},
   "outputs": [
    {
     "name": "stdout",
     "output_type": "stream",
     "text": [
      "['xn774cn', 'xn774cq', 'xn774cm', 'xn774cj', 'xn774bv', 'xn774by', 'xn774bz', 'xn774cp', 'xn774cr']\n"
     ]
    }
   ],
   "source": [
    "nei = npgeohash.neighbors(geohashes[0])\n",
    "print(nei)"
   ]
  },
  {
   "cell_type": "code",
   "execution_count": 5,
   "metadata": {},
   "outputs": [
    {
     "data": {
      "text/markdown": [
       "![](images/01.png)"
      ],
      "text/plain": [
       "<IPython.core.display.Markdown object>"
      ]
     },
     "metadata": {},
     "output_type": "display_data"
    }
   ],
   "source": [
    "m = Map(zoom_start=15)\n",
    "drawbox(m, nei, \"blue\")\n",
    "drawbox(m, [geohashes[0]], \"red\")\n",
    "m.fit_bounds(m.get_bounds())\n",
    "showmap(m)"
   ]
  },
  {
   "attachments": {},
   "cell_type": "markdown",
   "metadata": {},
   "source": [
    "## npgeohash.create_circle(latitude, longitude, radius, precision)\n",
    "\n",
    "Note that `create_circle` is generator iterating circular geohashes."
   ]
  },
  {
   "cell_type": "code",
   "execution_count": 6,
   "metadata": {},
   "outputs": [
    {
     "name": "stdout",
     "output_type": "stream",
     "text": [
      "['xn7748w', 'xn7748y', 'xn7749n', 'xn7749q', 'xn7749w', 'xn7748p', 'xn7748r', 'xn7748x', 'xn7748z', 'xn7749p', 'xn7749r', 'xn7749x', 'xn7749z', 'xn774dp', 'xn76fzb', 'xn774b0', 'xn774b2', 'xn774b8', 'xn774bb', 'xn774c0', 'xn774c2', 'xn774c8', 'xn774cb', 'xn774f0', 'xn774f2', 'xn76fz9', 'xn76fzc', 'xn774b1', 'xn774b3', 'xn774b9', 'xn774bc', 'xn774c1', 'xn774c3', 'xn774c9', 'xn774cc', 'xn774f1', 'xn774f3', 'xn76fzd', 'xn76fzf', 'xn774b4', 'xn774b6', 'xn774bd', 'xn774bf', 'xn774c4', 'xn774c6', 'xn774cd', 'xn774cf', 'xn774f4', 'xn774f6', 'xn774fd', 'xn76fze', 'xn76fzg', 'xn774b5', 'xn774b7', 'xn774be', 'xn774bg', 'xn774c5', 'xn774c7', 'xn774ce', 'xn774cg', 'xn774f5', 'xn774f7', 'xn774fe', 'xn76fzk', 'xn76fzs', 'xn76fzu', 'xn774bh', 'xn774bk', 'xn774bs', 'xn774bu', 'xn774ch', 'xn774ck', 'xn774cs', 'xn774cu', 'xn774fh', 'xn774fk', 'xn774fs', 'xn76fzm', 'xn76fzt', 'xn76fzv', 'xn774bj', 'xn774bm', 'xn774bt', 'xn774bv', 'xn774cj', 'xn774cm', 'xn774ct', 'xn774cv', 'xn774fj', 'xn774fm', 'xn774ft', 'xn76fzq', 'xn76fzw', 'xn76fzy', 'xn774bn', 'xn774bq', 'xn774bw', 'xn774by', 'xn774cn', 'xn774cq', 'xn774cw', 'xn774cy', 'xn774fn', 'xn774fq', 'xn774fw', 'xn76fzr', 'xn76fzx', 'xn76fzz', 'xn774bp', 'xn774br', 'xn774bx', 'xn774bz', 'xn774cp', 'xn774cr', 'xn774cx', 'xn774cz', 'xn774fp', 'xn774fr', 'xn774fx', 'xn76gp2', 'xn76gp8', 'xn76gpb', 'xn77500', 'xn77502', 'xn77508', 'xn7750b', 'xn77510', 'xn77512', 'xn77518', 'xn7751b', 'xn77540', 'xn77542', 'xn77548', 'xn76gp9', 'xn76gpc', 'xn77501', 'xn77503', 'xn77509', 'xn7750c', 'xn77511', 'xn77513', 'xn77519', 'xn7751c', 'xn77541', 'xn77543', 'xn77549', 'xn76gpd', 'xn76gpf', 'xn77504', 'xn77506', 'xn7750d', 'xn7750f', 'xn77514', 'xn77516', 'xn7751d', 'xn7751f', 'xn77544', 'xn77546', 'xn7754d', 'xn76gpe', 'xn76gpg', 'xn77505', 'xn77507', 'xn7750e', 'xn7750g', 'xn77515', 'xn77517', 'xn7751e', 'xn7751g', 'xn77545', 'xn77547', 'xn76gpu', 'xn7750h', 'xn7750k', 'xn7750s', 'xn7750u', 'xn7751h', 'xn7751k', 'xn7751s', 'xn7751u', 'xn7754h', 'xn7754k', 'xn7750j', 'xn7750m', 'xn7750t', 'xn7750v', 'xn7751j', 'xn7751m', 'xn7751t', 'xn7751v', 'xn7754j', 'xn7750q', 'xn7750w', 'xn7750y', 'xn7751n', 'xn7751q', 'xn7751w']\n"
     ]
    }
   ],
   "source": [
    "lat, lon = arr[0]\n",
    "cir = list(npgeohash.create_circle(lat, lon, 1000, 7))\n",
    "print(cir)"
   ]
  },
  {
   "cell_type": "code",
   "execution_count": 7,
   "metadata": {},
   "outputs": [
    {
     "data": {
      "text/markdown": [
       "![](images/02.png)"
      ],
      "text/plain": [
       "<IPython.core.display.Markdown object>"
      ]
     },
     "metadata": {},
     "output_type": "display_data"
    }
   ],
   "source": [
    "m = Map(zoom_start=15)\n",
    "drawbox(m, cir, \"blue\")\n",
    "Marker(arr[0]).add_to(m)\n",
    "Circle(arr[0], 1000, color=\"yellow\").add_to(m)\n",
    "m.fit_bounds(m.get_bounds())\n",
    "showmap(m)"
   ]
  },
  {
   "attachments": {},
   "cell_type": "markdown",
   "metadata": {},
   "source": [
    "## npgeohash.isin_circle(poi, latitude, longitude, radius, precision)"
   ]
  },
  {
   "attachments": {},
   "cell_type": "markdown",
   "metadata": {},
   "source": [
    "This function checks geohashes is within radius on (`latitude`, `longitude`)."
   ]
  },
  {
   "cell_type": "code",
   "execution_count": 8,
   "metadata": {},
   "outputs": [
    {
     "data": {
      "text/plain": [
       "array(['xn77518', 'xn7749r', 'xn76grf', 'xn774gh', 'xn77495', 'xn76fxs'],\n",
       "      dtype='<U12')"
      ]
     },
     "execution_count": 8,
     "metadata": {},
     "output_type": "execute_result"
    }
   ],
   "source": [
    "poi = np.array(\n",
    "    [\n",
    "        [35.69240645093, 139.7034750767164],\n",
    "        [35.691255831981294, 139.69025228754268],\n",
    "        [35.68307317410146, 139.71622562341963],\n",
    "        [35.70071598380815, 139.69749333875686],\n",
    "        [35.68997734701496, 139.6847427920536],\n",
    "        [35.68115524225217, 139.68584469115146],\n",
    "    ]\n",
    ")\n",
    "lat, lon = 35.68952987243547, 139.69953972279566\n",
    "\n",
    "poi_geohashes = npgeohash.encode_array(poi, 7)\n",
    "poi_geohashes"
   ]
  },
  {
   "cell_type": "code",
   "execution_count": 9,
   "metadata": {},
   "outputs": [
    {
     "data": {
      "text/plain": [
       "array([ True,  True, False, False, False, False])"
      ]
     },
     "execution_count": 9,
     "metadata": {},
     "output_type": "execute_result"
    }
   ],
   "source": [
    "isin = npgeohash.isin_circle(poi_geohashes, lat, lon, 1000, 7)\n",
    "isin"
   ]
  },
  {
   "cell_type": "code",
   "execution_count": 10,
   "metadata": {},
   "outputs": [
    {
     "data": {
      "text/markdown": [
       "![](images/03.png)"
      ],
      "text/plain": [
       "<IPython.core.display.Markdown object>"
      ]
     },
     "metadata": {},
     "output_type": "display_data"
    }
   ],
   "source": [
    "cir = npgeohash.create_circle(lat, lon, 1000, 7)\n",
    "\n",
    "m = Map(zoom_start=15)\n",
    "\n",
    "drawbox(m, cir, \"blue\")\n",
    "\n",
    "Marker([lat, lon], icon=Icon(icon=\"home\", color=\"blue\")).add_to(m)\n",
    "Circle([lat, lon], 1000, color=\"yellow\").add_to(m)\n",
    "\n",
    "for contain, latlon in zip(isin, poi):\n",
    "    if contain:\n",
    "        Marker(latlon, icon=Icon(icon=\"ok\", color=\"green\")).add_to(m)\n",
    "    else:\n",
    "        Marker(latlon, icon=Icon(icon=\"remove\", color=\"red\")).add_to(m)\n",
    "\n",
    "m.fit_bounds(m.get_bounds())\n",
    "showmap(m)"
   ]
  },
  {
   "attachments": {},
   "cell_type": "markdown",
   "metadata": {},
   "source": [
    "## npgeohash.many_neighbors(codes)"
   ]
  },
  {
   "cell_type": "code",
   "execution_count": 11,
   "metadata": {},
   "outputs": [
    {
     "name": "stdout",
     "output_type": "stream",
     "text": [
      "{'xn77h2w', 'xn775rb', 'xn775pu', 'xn77h2t', 'xn77h2s', 'xn7770h', 'xn775pv', 'xn77h2h', 'xn774ck', 'xn7770p', 'xn77518', 'xn774bu', 'xn77510', 'xn7770x', 'xn76ury', 'xn774bv', 'xn77h2u', 'xn76urf', 'xn77722', 'xn7770y', 'xn77728', 'xn77h2v', 'xn7770k', 'xn774cj', 'xn76uru', 'xn77h2k', 'xn77h24', 'xn774cr', 'xn77h2m', 'xn7770z', 'xn7770r', 'xn7772b', 'xn77h2n', 'xn7770j', 'xn7770v', 'xn7770s', 'xn774cs', 'xn77h2f', 'xn7770t', 'xn775pz', 'xn76urv', 'xn77h2q', 'xn77720', 'xn774cx', 'xn774cm', 'xn7770w', 'xn774bs', 'xn77h25', 'xn774bt', 'xn7770m', 'xn774bz', 'xn76urg', 'xn7770q', 'xn774cp', 'xn774ch', 'xn774bx', 'xn77h2d', 'xn77h2j', 'xn77h2e', 'xn77h27', 'xn7750b', 'xn774cw', 'xn774bw', 'xn774cq', 'xn77h26', 'xn77h2y', 'xn7770u', 'xn774ct', 'xn774cn', 'xn77512', 'xn775py', 'xn7770n', 'xn774by', 'xn77h2g', 'xn77508'}\n"
     ]
    }
   ],
   "source": [
    "nei = npgeohash.many_neighbors(npgeohash.many_neighbors(geohashes))\n",
    "print(nei)"
   ]
  },
  {
   "cell_type": "code",
   "execution_count": 12,
   "metadata": {},
   "outputs": [
    {
     "data": {
      "text/markdown": [
       "![](images/04.png)"
      ],
      "text/plain": [
       "<IPython.core.display.Markdown object>"
      ]
     },
     "metadata": {},
     "output_type": "display_data"
    }
   ],
   "source": [
    "m = Map(zoom_start=15)\n",
    "drawbox(m, nei, \"blue\")\n",
    "m.fit_bounds(m.get_bounds())\n",
    "showmap(m)"
   ]
  },
  {
   "attachments": {},
   "cell_type": "markdown",
   "metadata": {},
   "source": [
    "## npgeohash.compress(codes, accuracy=1.0)"
   ]
  },
  {
   "attachments": {},
   "cell_type": "markdown",
   "metadata": {},
   "source": [
    "The following example is accurate geohash compression."
   ]
  },
  {
   "cell_type": "code",
   "execution_count": 13,
   "metadata": {},
   "outputs": [
    {
     "data": {
      "text/markdown": [
       "![](images/05.png)"
      ],
      "text/plain": [
       "<IPython.core.display.Markdown object>"
      ]
     },
     "metadata": {},
     "output_type": "display_data"
    }
   ],
   "source": [
    "lat, lon = arr[0]\n",
    "\n",
    "cir = npgeohash.create_circle(lat, lon, 1000, 7)\n",
    "compressed = npgeohash.compress(cir, accuracy=1.0)\n",
    "\n",
    "m = Map()\n",
    "drawbox(m, compressed, \"blue\")\n",
    "Marker(arr[0]).add_to(m)\n",
    "Circle(arr[0], 1000, color=\"yellow\").add_to(m)\n",
    "m.fit_bounds(m.get_bounds())\n",
    "showmap(m)"
   ]
  },
  {
   "attachments": {},
   "cell_type": "markdown",
   "metadata": {},
   "source": [
    "The following example is obscured geohash compression."
   ]
  },
  {
   "cell_type": "code",
   "execution_count": 14,
   "metadata": {},
   "outputs": [
    {
     "data": {
      "text/markdown": [
       "![](images/06.png)"
      ],
      "text/plain": [
       "<IPython.core.display.Markdown object>"
      ]
     },
     "metadata": {},
     "output_type": "display_data"
    }
   ],
   "source": [
    "cir = npgeohash.create_circle(lat, lon, 1000, 7)\n",
    "compressed = npgeohash.compress(cir, accuracy=0.6)\n",
    "\n",
    "m = Map()\n",
    "drawbox(m, compressed, \"blue\")\n",
    "Marker(arr[0]).add_to(m)\n",
    "Circle(arr[0], 1000, color=\"yellow\").add_to(m)\n",
    "m.fit_bounds(m.get_bounds())\n",
    "showmap(m)"
   ]
  },
  {
   "attachments": {},
   "cell_type": "markdown",
   "metadata": {},
   "source": [
    "The compression is executed recursively."
   ]
  },
  {
   "cell_type": "code",
   "execution_count": 15,
   "metadata": {},
   "outputs": [
    {
     "data": {
      "text/markdown": [
       "![](images/07.png)"
      ],
      "text/plain": [
       "<IPython.core.display.Markdown object>"
      ]
     },
     "metadata": {},
     "output_type": "display_data"
    }
   ],
   "source": [
    "cir = npgeohash.create_circle(lat, lon, 1000, 8)\n",
    "compressed = npgeohash.compress(cir, accuracy=1.0)\n",
    "\n",
    "m = Map()\n",
    "drawbox(m, compressed, \"blue\")\n",
    "Marker([lat, lon]).add_to(m)\n",
    "Circle([lat, lon], 1000, color=\"yellow\").add_to(m)\n",
    "m.fit_bounds(m.get_bounds())\n",
    "showmap(m)"
   ]
  },
  {
   "attachments": {},
   "cell_type": "markdown",
   "metadata": {},
   "source": [
    "Obsured recursive compress is executed as below."
   ]
  },
  {
   "cell_type": "code",
   "execution_count": 16,
   "metadata": {},
   "outputs": [
    {
     "data": {
      "text/markdown": [
       "![](images/08.png)"
      ],
      "text/plain": [
       "<IPython.core.display.Markdown object>"
      ]
     },
     "metadata": {},
     "output_type": "display_data"
    }
   ],
   "source": [
    "cir = npgeohash.create_circle(lat, lon, 1000, 8)\n",
    "compressed = npgeohash.compress(cir, accuracy=0.6)\n",
    "\n",
    "m = Map()\n",
    "drawbox(m, compressed, \"blue\")\n",
    "Marker([lat, lon]).add_to(m)\n",
    "Circle([lat, lon], 1000, color=\"yellow\").add_to(m)\n",
    "m.fit_bounds(m.get_bounds())\n",
    "showmap(m)"
   ]
  },
  {
   "attachments": {},
   "cell_type": "markdown",
   "metadata": {},
   "source": [
    "## npgeohash.isin(poi, codes)"
   ]
  },
  {
   "cell_type": "code",
   "execution_count": 17,
   "metadata": {},
   "outputs": [
    {
     "data": {
      "text/markdown": [
       "![](images/09.png)"
      ],
      "text/plain": [
       "<IPython.core.display.Markdown object>"
      ]
     },
     "metadata": {},
     "output_type": "display_data"
    }
   ],
   "source": [
    "cir = npgeohash.create_circle(lat, lon, 1000, 8)\n",
    "compressed = npgeohash.compress(cir, accuracy=1.0)\n",
    "isin = npgeohash.isin(poi_geohashes, compressed)\n",
    "\n",
    "m = Map()\n",
    "drawbox(m, compressed, \"blue\")\n",
    "Marker([lat, lon]).add_to(m)\n",
    "Circle([lat, lon], 1000, color=\"yellow\").add_to(m)\n",
    "for contain, latlon in zip(isin, poi):\n",
    "    if contain:\n",
    "        Marker(latlon, icon=Icon(icon=\"ok\", color=\"green\")).add_to(m)\n",
    "    else:\n",
    "        Marker(latlon, icon=Icon(icon=\"remove\", color=\"red\")).add_to(m)\n",
    "m.fit_bounds(m.get_bounds())\n",
    "showmap(m)"
   ]
  },
  {
   "attachments": {},
   "cell_type": "markdown",
   "metadata": {},
   "source": [
    "If you need more performance, Numba jitted functions are available in `npgeohash_jit`.\n",
    "However, keep your in mind it takes several seconds to complete compiling functions.\n",
    "\n",
    "See [performance.ipynb](./docs/performance.ipynb) for performance comparison."
   ]
  },
  {
   "cell_type": "code",
   "execution_count": 18,
   "metadata": {},
   "outputs": [
    {
     "data": {
      "text/plain": [
       "array(['xn774cn', 'xn7770q', 'xn77h2k'], dtype='<U12')"
      ]
     },
     "execution_count": 18,
     "metadata": {},
     "output_type": "execute_result"
    }
   ],
   "source": [
    "from npgeohash import npgeohash_jit as npgeohash\n",
    "\n",
    "geohashes = npgeohash.encode_array(arr, 7)\n",
    "geohashes"
   ]
  },
  {
   "cell_type": "markdown",
   "metadata": {},
   "source": [
    "## npgeohash.create_box(box, precision)"
   ]
  },
  {
   "cell_type": "code",
   "execution_count": 19,
   "metadata": {},
   "outputs": [
    {
     "data": {
      "text/markdown": [
       "![](images/10.png)"
      ],
      "text/plain": [
       "<IPython.core.display.Markdown object>"
      ]
     },
     "metadata": {},
     "output_type": "display_data"
    }
   ],
   "source": [
    "box = (51.648364, -0.410270, 51.944039, 0.277987)\n",
    "\n",
    "m = Map()\n",
    "drawbox(m, npgeohash.create_box(box, 6), \"blue\")\n",
    "m.add_child(Marker(location=(box[0], box[1])))\n",
    "m.add_child(Marker(location=(box[2], box[3])))\n",
    "m.fit_bounds(m.get_bounds())\n",
    "showmap(m)"
   ]
  }
 ],
 "metadata": {
  "kernelspec": {
   "display_name": "Python 3 (ipykernel)",
   "language": "python",
   "name": "python3"
  },
  "language_info": {
   "codemirror_mode": {
    "name": "ipython",
    "version": 3
   },
   "file_extension": ".py",
   "mimetype": "text/x-python",
   "name": "python",
   "nbconvert_exporter": "python",
   "pygments_lexer": "ipython3",
   "version": "3.10.1"
  }
 },
 "nbformat": 4,
 "nbformat_minor": 2
}
